{
 "cells": [
  {
   "cell_type": "markdown",
   "metadata": {
    "tags": []
   },
   "source": [
    "> **Tip**: Welcome to the Investigate a Dataset project! You will find tips in quoted sections like this to help organize your approach to your investigation. Once you complete this project, remove these **Tip** sections from your report before submission. First things first, you might want to double-click this Markdown cell and change the title so that it reflects your dataset and investigation.\n",
    "\n",
    "# Project: Investigate a Dataset - [Dataset-name]\n",
    "\n",
    "## Table of Contents\n",
    "<ul>\n",
    "<li><a href=\"#intro\">Introduction</a></li>\n",
    "<li><a href=\"#wrangling\">Data Wrangling</a></li>\n",
    "<li><a href=\"#eda\">Exploratory Data Analysis</a></li>\n",
    "<li><a href=\"#conclusions\">Conclusions</a></li>\n",
    "</ul>"
   ]
  },
  {
   "cell_type": "markdown",
   "metadata": {},
   "source": [
    "<a id='intro'></a>\n",
    "## Introduction\n",
    "\n",
    "### Dataset Description \n",
    "\n",
    "> **Tip**: In this section of the report, provide a brief introduction to the dataset you've selected/downloaded for analysis. Read through the description available on the `Project Details` page of `Investigate a Dataset` lesson for this course. List all column names in each table, and their significance. In case of multiple tables, describe the relationship between tables. \n",
    "\n",
    "\n",
    "### Question(s) for Analysis\n",
    ">**Tip**: Clearly state one or more questions that you plan on exploring over the course of the report. You will address these questions in the **data analysis** and **conclusion** sections. Try to build your report around the analysis of at least one dependent variable and three independent variables. If you're not sure what questions to ask, then make sure you familiarize yourself with the dataset, its variables and the dataset context for ideas of what to explore.\n",
    "\n",
    "> **Tip**: Once you start coding, use NumPy arrays, Pandas Series, and DataFrames where appropriate rather than Python lists and dictionaries. Also, **use good coding practices**, such as, define and use functions to avoid repetitive code. Use appropriate comments within the code cells, explanation in the mark-down cells, and meaningful variable names. "
   ]
  },
  {
   "cell_type": "code",
   "execution_count": 20,
   "metadata": {
    "tags": []
   },
   "outputs": [],
   "source": [
    "# Use this cell to set up import statements for all of the packages that you\n",
    "#   plan to use.\n",
    "import pandas as pd\n",
    "import numpy as np\n",
    "import matplotlib as plt\n",
    "import seaborn as sns\n",
    "%matplotlib inline\n",
    "\n",
    "\n",
    "# While optional for current notebooks, if you are having trouble with visualizations,\n",
    "#   remember to include a 'magic word' so that your visualizations are plotted\n",
    "#   inline with the notebook. See this page for more:\n",
    "#   http://ipython.readthedocs.io/en/stable/interactive/magics.html\n"
   ]
  },
  {
   "cell_type": "markdown",
   "metadata": {},
   "source": [
    "<a id='wrangling'></a>\n",
    "## Data Wrangling\n",
    "\n",
    "> **Tip**: In this section of the report, you will load in the data, check for cleanliness, and then trim and clean your dataset for analysis. Make sure that you **document your data cleaning steps in mark-down cells precisely and justify your cleaning decisions.**\n",
    "\n",
    "\n",
    "### General Properties\n",
    "> **Tip**: You should _not_ perform too many operations in each cell. Create cells freely to explore your data. One option that you can take with this project is to do a lot of explorations initially. This does not have to be organized, but make sure you use enough comments to understand the purpose of each code cell. Then, after you're done with your analysis, trim the excess and organize your steps so that you have a flowing, cohesive report."
   ]
  },
  {
   "cell_type": "code",
   "execution_count": 21,
   "metadata": {
    "tags": []
   },
   "outputs": [
    {
     "data": {
      "text/plain": [
       "96060"
      ]
     },
     "execution_count": 21,
     "metadata": {},
     "output_type": "execute_result"
    }
   ],
   "source": [
    "# Load your data and print out a few lines. What is the size of your dataframe? \n",
    "#   Perform operations to inspect data types and look for instances of missing\n",
    "#   or possibly errant data. There are at least 4 - 6 methods you can call on your\n",
    "#   dataframe to obtain this information.\n",
    "\n",
    "df = pd.read_csv('C:\\\\Users\\\\britt\\\\OneDrive\\\\Documents\\\\data\\\\WGU D496 project\\\\tmdb_5000_movies.csv')\n",
    "\n",
    "df_count = df.size\n",
    "\n",
    "df.info\n",
    "\n",
    "df.isnull().sum()\n",
    "\n",
    "df.describe()\n",
    "\n",
    "df_count"
   ]
  },
  {
   "cell_type": "markdown",
   "metadata": {},
   "source": [
    "\n",
    "### Data Cleaning\n",
    "> **Tip**: Make sure that you keep your reader informed on the steps that you are taking in your investigation. Follow every code cell, or every set of related code cells, with a markdown cell to describe to the reader what was found in the preceding cell(s). Try to make it so that the reader can then understand what they will be seeing in the following cell(s).\n",
    " "
   ]
  },
  {
   "cell_type": "code",
   "execution_count": 22,
   "metadata": {
    "tags": []
   },
   "outputs": [],
   "source": [
    "# After discussing the structure of the data and any problems that need to be\n",
    "#   cleaned, perform those cleaning steps in the second part of this section.\n",
    "\n",
    "#Check for duplicates and drop them if necessary\n",
    "df.duplicated\n",
    "\n",
    "df.drop_duplicates(inplace=True)"
   ]
  },
  {
   "cell_type": "markdown",
   "metadata": {},
   "source": [
    "<a id='eda'></a>\n",
    "## Exploratory Data Analysis\n",
    "\n",
    "> **Tip**: Now that you've trimmed and cleaned your data, you're ready to move on to exploration. **Compute statistics** and **create visualizations** with the goal of addressing the research questions that you posed in the Introduction section. You should compute the relevant statistics throughout the analysis when an inference is made about the data. Note that at least two or more kinds of plots should be created as part of the exploration, and you must  compare and show trends in the varied visualizations. Remember to utilize the visualizations that the pandas library already has available.\n",
    "\n",
    "\n",
    "\n",
    "> **Tip**: Investigate the stated question(s) from multiple angles. It is recommended that you be systematic with your approach. Look at one variable at a time, and then follow it up by looking at relationships between variables. You should explore at least three variables in relation to the primary question. This can be an exploratory relationship between three variables of interest, or looking at how two independent variables relate to a single dependent variable of interest. Lastly, you  should perform both single-variable (1d) and multiple-variable (2d) explorations.\n",
    "\n",
    "\n",
    "### What are the top grossing movies?\n"
   ]
  },
  {
   "cell_type": "code",
   "execution_count": 23,
   "metadata": {
    "tags": []
   },
   "outputs": [
    {
     "data": {
      "text/html": [
       "<div>\n",
       "<style scoped>\n",
       "    .dataframe tbody tr th:only-of-type {\n",
       "        vertical-align: middle;\n",
       "    }\n",
       "\n",
       "    .dataframe tbody tr th {\n",
       "        vertical-align: top;\n",
       "    }\n",
       "\n",
       "    .dataframe thead th {\n",
       "        text-align: right;\n",
       "    }\n",
       "</style>\n",
       "<table border=\"1\" class=\"dataframe\">\n",
       "  <thead>\n",
       "    <tr style=\"text-align: right;\">\n",
       "      <th></th>\n",
       "      <th>title</th>\n",
       "      <th>revenue</th>\n",
       "      <th>budget</th>\n",
       "      <th>release_date</th>\n",
       "    </tr>\n",
       "  </thead>\n",
       "  <tbody>\n",
       "    <tr>\n",
       "      <th>0</th>\n",
       "      <td>Avatar</td>\n",
       "      <td>2787965087</td>\n",
       "      <td>237000000</td>\n",
       "      <td>2009-12-10</td>\n",
       "    </tr>\n",
       "    <tr>\n",
       "      <th>25</th>\n",
       "      <td>Titanic</td>\n",
       "      <td>1845034188</td>\n",
       "      <td>200000000</td>\n",
       "      <td>1997-11-18</td>\n",
       "    </tr>\n",
       "    <tr>\n",
       "      <th>16</th>\n",
       "      <td>The Avengers</td>\n",
       "      <td>1519557910</td>\n",
       "      <td>220000000</td>\n",
       "      <td>2012-04-25</td>\n",
       "    </tr>\n",
       "    <tr>\n",
       "      <th>28</th>\n",
       "      <td>Jurassic World</td>\n",
       "      <td>1513528810</td>\n",
       "      <td>150000000</td>\n",
       "      <td>2015-06-09</td>\n",
       "    </tr>\n",
       "    <tr>\n",
       "      <th>44</th>\n",
       "      <td>Furious 7</td>\n",
       "      <td>1506249360</td>\n",
       "      <td>190000000</td>\n",
       "      <td>2015-04-01</td>\n",
       "    </tr>\n",
       "    <tr>\n",
       "      <th>7</th>\n",
       "      <td>Avengers: Age of Ultron</td>\n",
       "      <td>1405403694</td>\n",
       "      <td>280000000</td>\n",
       "      <td>2015-04-22</td>\n",
       "    </tr>\n",
       "    <tr>\n",
       "      <th>124</th>\n",
       "      <td>Frozen</td>\n",
       "      <td>1274219009</td>\n",
       "      <td>150000000</td>\n",
       "      <td>2013-11-27</td>\n",
       "    </tr>\n",
       "    <tr>\n",
       "      <th>31</th>\n",
       "      <td>Iron Man 3</td>\n",
       "      <td>1215439994</td>\n",
       "      <td>200000000</td>\n",
       "      <td>2013-04-18</td>\n",
       "    </tr>\n",
       "    <tr>\n",
       "      <th>546</th>\n",
       "      <td>Minions</td>\n",
       "      <td>1156730962</td>\n",
       "      <td>74000000</td>\n",
       "      <td>2015-06-17</td>\n",
       "    </tr>\n",
       "    <tr>\n",
       "      <th>26</th>\n",
       "      <td>Captain America: Civil War</td>\n",
       "      <td>1153304495</td>\n",
       "      <td>250000000</td>\n",
       "      <td>2016-04-27</td>\n",
       "    </tr>\n",
       "    <tr>\n",
       "      <th>52</th>\n",
       "      <td>Transformers: Dark of the Moon</td>\n",
       "      <td>1123746996</td>\n",
       "      <td>195000000</td>\n",
       "      <td>2011-06-28</td>\n",
       "    </tr>\n",
       "    <tr>\n",
       "      <th>329</th>\n",
       "      <td>The Lord of the Rings: The Return of the King</td>\n",
       "      <td>1118888979</td>\n",
       "      <td>94000000</td>\n",
       "      <td>2003-12-01</td>\n",
       "    </tr>\n",
       "    <tr>\n",
       "      <th>29</th>\n",
       "      <td>Skyfall</td>\n",
       "      <td>1108561013</td>\n",
       "      <td>200000000</td>\n",
       "      <td>2012-10-25</td>\n",
       "    </tr>\n",
       "    <tr>\n",
       "      <th>36</th>\n",
       "      <td>Transformers: Age of Extinction</td>\n",
       "      <td>1091405097</td>\n",
       "      <td>210000000</td>\n",
       "      <td>2014-06-25</td>\n",
       "    </tr>\n",
       "    <tr>\n",
       "      <th>3</th>\n",
       "      <td>The Dark Knight Rises</td>\n",
       "      <td>1084939099</td>\n",
       "      <td>250000000</td>\n",
       "      <td>2012-07-16</td>\n",
       "    </tr>\n",
       "    <tr>\n",
       "      <th>42</th>\n",
       "      <td>Toy Story 3</td>\n",
       "      <td>1066969703</td>\n",
       "      <td>200000000</td>\n",
       "      <td>2010-06-16</td>\n",
       "    </tr>\n",
       "    <tr>\n",
       "      <th>12</th>\n",
       "      <td>Pirates of the Caribbean: Dead Man's Chest</td>\n",
       "      <td>1065659812</td>\n",
       "      <td>200000000</td>\n",
       "      <td>2006-06-20</td>\n",
       "    </tr>\n",
       "    <tr>\n",
       "      <th>17</th>\n",
       "      <td>Pirates of the Caribbean: On Stranger Tides</td>\n",
       "      <td>1045713802</td>\n",
       "      <td>380000000</td>\n",
       "      <td>2011-05-14</td>\n",
       "    </tr>\n",
       "    <tr>\n",
       "      <th>32</th>\n",
       "      <td>Alice in Wonderland</td>\n",
       "      <td>1025491110</td>\n",
       "      <td>200000000</td>\n",
       "      <td>2010-03-03</td>\n",
       "    </tr>\n",
       "    <tr>\n",
       "      <th>98</th>\n",
       "      <td>The Hobbit: An Unexpected Journey</td>\n",
       "      <td>1021103568</td>\n",
       "      <td>250000000</td>\n",
       "      <td>2012-11-26</td>\n",
       "    </tr>\n",
       "    <tr>\n",
       "      <th>65</th>\n",
       "      <td>The Dark Knight</td>\n",
       "      <td>1004558444</td>\n",
       "      <td>185000000</td>\n",
       "      <td>2008-07-16</td>\n",
       "    </tr>\n",
       "    <tr>\n",
       "      <th>197</th>\n",
       "      <td>Harry Potter and the Philosopher's Stone</td>\n",
       "      <td>976475550</td>\n",
       "      <td>125000000</td>\n",
       "      <td>2001-11-16</td>\n",
       "    </tr>\n",
       "    <tr>\n",
       "      <th>506</th>\n",
       "      <td>Despicable Me 2</td>\n",
       "      <td>970761885</td>\n",
       "      <td>76000000</td>\n",
       "      <td>2013-06-25</td>\n",
       "    </tr>\n",
       "    <tr>\n",
       "      <th>78</th>\n",
       "      <td>The Jungle Book</td>\n",
       "      <td>966550600</td>\n",
       "      <td>175000000</td>\n",
       "      <td>2016-04-07</td>\n",
       "    </tr>\n",
       "    <tr>\n",
       "      <th>1</th>\n",
       "      <td>Pirates of the Caribbean: At World's End</td>\n",
       "      <td>961000000</td>\n",
       "      <td>300000000</td>\n",
       "      <td>2007-05-19</td>\n",
       "    </tr>\n",
       "  </tbody>\n",
       "</table>\n",
       "</div>"
      ],
      "text/plain": [
       "                                             title     revenue     budget  \\\n",
       "0                                           Avatar  2787965087  237000000   \n",
       "25                                         Titanic  1845034188  200000000   \n",
       "16                                    The Avengers  1519557910  220000000   \n",
       "28                                  Jurassic World  1513528810  150000000   \n",
       "44                                       Furious 7  1506249360  190000000   \n",
       "7                          Avengers: Age of Ultron  1405403694  280000000   \n",
       "124                                         Frozen  1274219009  150000000   \n",
       "31                                      Iron Man 3  1215439994  200000000   \n",
       "546                                        Minions  1156730962   74000000   \n",
       "26                      Captain America: Civil War  1153304495  250000000   \n",
       "52                  Transformers: Dark of the Moon  1123746996  195000000   \n",
       "329  The Lord of the Rings: The Return of the King  1118888979   94000000   \n",
       "29                                         Skyfall  1108561013  200000000   \n",
       "36                 Transformers: Age of Extinction  1091405097  210000000   \n",
       "3                            The Dark Knight Rises  1084939099  250000000   \n",
       "42                                     Toy Story 3  1066969703  200000000   \n",
       "12      Pirates of the Caribbean: Dead Man's Chest  1065659812  200000000   \n",
       "17     Pirates of the Caribbean: On Stranger Tides  1045713802  380000000   \n",
       "32                             Alice in Wonderland  1025491110  200000000   \n",
       "98               The Hobbit: An Unexpected Journey  1021103568  250000000   \n",
       "65                                 The Dark Knight  1004558444  185000000   \n",
       "197       Harry Potter and the Philosopher's Stone   976475550  125000000   \n",
       "506                                Despicable Me 2   970761885   76000000   \n",
       "78                                 The Jungle Book   966550600  175000000   \n",
       "1         Pirates of the Caribbean: At World's End   961000000  300000000   \n",
       "\n",
       "    release_date  \n",
       "0     2009-12-10  \n",
       "25    1997-11-18  \n",
       "16    2012-04-25  \n",
       "28    2015-06-09  \n",
       "44    2015-04-01  \n",
       "7     2015-04-22  \n",
       "124   2013-11-27  \n",
       "31    2013-04-18  \n",
       "546   2015-06-17  \n",
       "26    2016-04-27  \n",
       "52    2011-06-28  \n",
       "329   2003-12-01  \n",
       "29    2012-10-25  \n",
       "36    2014-06-25  \n",
       "3     2012-07-16  \n",
       "42    2010-06-16  \n",
       "12    2006-06-20  \n",
       "17    2011-05-14  \n",
       "32    2010-03-03  \n",
       "98    2012-11-26  \n",
       "65    2008-07-16  \n",
       "197   2001-11-16  \n",
       "506   2013-06-25  \n",
       "78    2016-04-07  \n",
       "1     2007-05-19  "
      ]
     },
     "execution_count": 23,
     "metadata": {},
     "output_type": "execute_result"
    }
   ],
   "source": [
    "# Use this, and more code cells, to explore your data. Don't forget to add\n",
    "#   Markdown cells to document your observations and findings.\n",
    "\n",
    "#sort by revenue\n",
    "top_grossing = df.sort_values(by='revenue', ascending=False)\n",
    "#display the top 25 grossing movies\n",
    "top_grossing = top_grossing[['title', 'revenue', 'budget', 'release_date']].head(25)\n",
    "top_grossing\n"
   ]
  },
  {
   "cell_type": "markdown",
   "metadata": {},
   "source": [
    "##### There is a substantial gap between the top grossing movie of this data set and runner up. Avatar took the top spot with a releast in 2009 and a revenue of 2.8 TRILLION. Titanic was #2 with 1.8 trillion in revenue. The remainding top 10 were closer in revenue than the top 2 spots. Most of the top grossing movies were released since 2009. The notable exception being Titanic which was released in 1997."
   ]
  },
  {
   "cell_type": "markdown",
   "metadata": {},
   "source": [
    "### Do movies with high revenue have high budgets compared to the rest of movies produced on average?"
   ]
  },
  {
   "cell_type": "code",
   "execution_count": 24,
   "metadata": {
    "tags": []
   },
   "outputs": [
    {
     "name": "stdout",
     "output_type": "stream",
     "text": [
      "Average budget of top 25 grossing movies: budget    199640000.0\n",
      "dtype: float64\n",
      "Average budget of all movies: budget    2.904504e+07\n",
      "dtype: float64\n",
      "Do top grossing movie budgets tend to be higher than the overall average? budget    True\n",
      "dtype: bool\n"
     ]
    }
   ],
   "source": [
    "#display the top 25 grossing movies budgets\n",
    "top_grossing[['title', 'budget', 'revenue','release_date']].head(25)\n",
    "#average budget of the top 25 grossing movies?\n",
    "top_budget_avg = top_grossing[['budget']].head(25).mean()\n",
    "\n",
    "#average budget of all movies\n",
    "all_budget_avg = df[['budget']].mean()\n",
    "\n",
    "#compare the two averages\n",
    "print(f\"Average budget of top 25 grossing movies: {top_budget_avg}\")\n",
    "print(f\"Average budget of all movies: {all_budget_avg}\")\n",
    "print(f'Do top grossing movie budgets tend to be higher than the overall average? {top_budget_avg > all_budget_avg}')\n"
   ]
  },
  {
   "cell_type": "markdown",
   "metadata": {},
   "source": [
    "#### Surprisingly, the overall average budget for movies produced and counted in this dataset was almost 100 million per movie more than the 25 top grossing movies. This indicates that budget doesn't seem to be a significant indicator of success. But are there any outliers in our data?"
   ]
  },
  {
   "cell_type": "markdown",
   "metadata": {},
   "source": [
    "### What is the distribution of budgets in our dataset? Are there any outliers?"
   ]
  },
  {
   "cell_type": "code",
   "execution_count": 25,
   "metadata": {},
   "outputs": [
    {
     "data": {
      "image/png": "[encoded data removed]",
      "text/plain": [
       "<Figure size 1200x600 with 1 Axes>"
      ]
     },
     "metadata": {},
     "output_type": "display_data"
    }
   ],
   "source": [
    "# adjust budget values to millions for better readability\n",
    "df['budget'] = df['budget'] / 1e6\n",
    "\n",
    "# budget distribution -- boxplot\n",
    "plt.pyplot.figure(figsize=(12, 6))\n",
    "sns.boxplot(data=df, x='budget')\n",
    "plt.pyplot.title('Budget Distribution of Movies')\n",
    "\n",
    "#rename budgets to millions for better readability on boxplot\n",
    "plt.pyplot.xlabel('Budget (in millions)')\n",
    "plt.pyplot.show()"
   ]
  },
  {
   "cell_type": "code",
   "execution_count": 26,
   "metadata": {},
   "outputs": [
    {
     "name": "stdout",
     "output_type": "stream",
     "text": [
      "Number of movies with budget above the upper whisker: 321\n",
      "Outliers:\n",
      "Title: Pirates of the Caribbean: On Stranger Tides, Budget: 380.0 million\n",
      "Title: Pirates of the Caribbean: At World's End, Budget: 300.0 million\n",
      "Title: Avengers: Age of Ultron, Budget: 280.0 million\n",
      "Title: Superman Returns, Budget: 270.0 million\n",
      "Title: John Carter, Budget: 260.0 million\n",
      "Title: Tangled, Budget: 260.0 million\n",
      "Title: Spider-Man 3, Budget: 258.0 million\n",
      "Title: The Lone Ranger, Budget: 255.0 million\n",
      "Title: The Hobbit: An Unexpected Journey, Budget: 250.0 million\n",
      "Title: The Hobbit: The Desolation of Smaug, Budget: 250.0 million\n",
      "Title: Harry Potter and the Half-Blood Prince, Budget: 250.0 million\n",
      "Title: The Dark Knight Rises, Budget: 250.0 million\n",
      "Title: Batman v Superman: Dawn of Justice, Budget: 250.0 million\n",
      "Title: Captain America: Civil War, Budget: 250.0 million\n",
      "Title: The Hobbit: The Battle of the Five Armies, Budget: 250.0 million\n",
      "Title: X-Men: Days of Future Past, Budget: 250.0 million\n",
      "Title: Spectre, Budget: 245.0 million\n",
      "Title: Avatar, Budget: 237.0 million\n",
      "Title: Men in Black 3, Budget: 225.0 million\n",
      "Title: The Chronicles of Narnia: Prince Caspian, Budget: 225.0 million\n",
      "Title: Man of Steel, Budget: 225.0 million\n",
      "Title: The Avengers, Budget: 220.0 million\n",
      "Title: The Amazing Spider-Man, Budget: 215.0 million\n",
      "Title: X-Men: The Last Stand, Budget: 210.0 million\n",
      "Title: Transformers: Age of Extinction, Budget: 210.0 million\n",
      "Number of top grossing movies that are also outliers: 9\n"
     ]
    }
   ],
   "source": [
    "# count how many movies have a budget above the boxplot's upper whisker\n",
    "outliers = df[df['budget'] > df['budget'].quantile(0.75) + 1.5 * (df['budget'].quantile(0.75) - df['budget'].quantile(0.25))]\n",
    "outlier_count = outliers.shape[0]\n",
    "\n",
    "#sort outliers by budget\n",
    "outliers = outliers.sort_values(by='budget', ascending=False).head(25)\n",
    "\n",
    "#display the number of outliers and their titles and budgets\n",
    "print(f\"Number of movies with budget above the upper whisker: {outlier_count}\")\n",
    "print(\"Outliers:\")\n",
    "for index, row in outliers.iterrows():\n",
    "    print(f\"Title: {row['title']}, Budget: {row['budget']} million\")\n",
    "\n",
    "# Find overlap between top grossing movies and outliers\n",
    "overlap = pd.merge(top_grossing[['title', 'budget']], outliers[['title', 'budget']], on='title', how='inner')\n",
    "print(f\"Number of top grossing movies that are also outliers: {overlap.shape[0]}\")"
   ]
  },
  {
   "cell_type": "markdown",
   "metadata": {},
   "source": [
    "#### From the previous analysis, we can see that there are 321 outliers in our dataset of 96,060 movies. Of those, 9 are included in our top 25 grossing movies. While our outliers consist of less than half a percent of our total movies, they account for over a third of our top grossing set. I'm inclined to believe that a higher budget can increase the success of producing a top grossing movie."
   ]
  },
  {
   "cell_type": "markdown",
   "metadata": {},
   "source": [
    "### How have movie budgets changed over time?\n"
   ]
  },
  {
   "cell_type": "code",
   "execution_count": 27,
   "metadata": {},
   "outputs": [
    {
     "data": {
      "image/png": "[encoded data removed]",
      "text/plain": [
       "<Figure size 1200x600 with 1 Axes>"
      ]
     },
     "metadata": {},
     "output_type": "display_data"
    },
    {
     "name": "stdout",
     "output_type": "stream",
     "text": [
      "Year with the highest average budget: 1927.0 with an average budget of 9.262e-05 million\n"
     ]
    }
   ],
   "source": [
    "#convert datatype of release_date to datetime and extract the year\n",
    "df['release_date'] = pd.to_datetime(df['release_date'])\n",
    "df['release_year'] = df['release_date'].dt.year\n",
    "\n",
    "#creat new df to calculate average budget per year\n",
    "budget_over_time = df.groupby('release_year')['budget'].mean().reset_index()\n",
    "\n",
    "#adjust budget values to millions for better readability\n",
    "budget_over_time['budget'] = budget_over_time['budget'] / 1e6\n",
    "\n",
    "#create a line plot to visualize the average budget over time\n",
    "plt.pyplot.figure(figsize=(12, 6))\n",
    "sns.lineplot(data=budget_over_time, x='release_year', y='budget')\n",
    "plt.pyplot.title('Average Movie Budget Over Time')\n",
    "plt.pyplot.xlabel('Release Year')\n",
    "plt.pyplot.ylabel('Average Budget (in millions)')\n",
    "\n",
    "# overlay a trendline\n",
    "sns.regplot(data=budget_over_time, x='release_year', y='budget', scatter=False, color='red')\n",
    "plt.pyplot.show()\n",
    "\n",
    "#year with the highest average budget\n",
    "highest_budget_year = budget_over_time.loc[budget_over_time['budget'].idxmax()]\n",
    "print(f\"Year with the highest average budget: {highest_budget_year['release_year']} with an average budget of {highest_budget_year['budget']} million\")"
   ]
  },
  {
   "cell_type": "markdown",
   "metadata": {},
   "source": [
    "#### It is clear to see 1927 stands as a clear outlier in our dataset. If we ignore this year, an obvious trend to our data. Over time the average budget per movie has increased significantly. Given most top grossing movies were released after 1990, there is a strong argument to be made that increased budgets increase the chance of success."
   ]
  },
  {
   "cell_type": "markdown",
   "metadata": {},
   "source": [
    "<a id='conclusions'></a>\n",
    "## Conclusions\n",
    "\n",
    "> **Tip**: Finally, summarize your findings and the results that have been performed in relation to the question(s) provided at the beginning of the analysis. Summarize the results accurately, and point out where additional research can be done or where additional information could be useful.\n",
    "\n",
    "> **Tip**: Make sure that you are clear with regards to the limitations of your exploration. You should have at least 1 limitation explained clearly. \n",
    "\n",
    "> **Tip**: If you haven't done any statistical tests, do not imply any statistical conclusions. And make sure you avoid implying causation from correlation!\n",
    "\n",
    "> **Tip**: Once you are satisfied with your work here, check over your report to make sure that it is satisfies all the areas of the rubric (found on the project submission page at the end of the lesson). You should also probably remove all of the \"Tips\" like this one so that the presentation is as polished as possible.\n",
    "\n",
    "### Focusing on the dataset, we began by understanding the data and removing duplicates. I wanted to take a look at top grossing movies and see if there was a connection between budgets and success. At a quick glance, we see a lot of variance in the budgets of the top 25 grossing movies. Even more, the average budget was significantly lower than the overal movie budget average. By creating a box plot, we see many movies lying outside our upper whisker. These outliers make up about .33% of all movies. However, they account for 36% of the top 25 grossing movies. Given the suspected connection between budget and success, I wanted to take a look at how budgets have changed over time. Aside from the outlier of the year 1927, there has been a slow trend of increasing the budget for movies. Around 1990, this trend strengthened. Given all this information, it does not surprise me that all the movies on the top grossing list were released after 1990. I conclude there is a link that correlates budget and a movies success upon release.\n",
    "\n",
    "## Submitting your Project \n",
    "\n",
    "> **Tip**: Before you submit your project, you need to create a .html or .pdf version of this notebook in the workspace here. To do that, run the code cell below. If it worked correctly, you should see output that starts with `NbConvertApp] Converting notebook`, and you should see the generated .html file in the workspace directory (click on the orange Jupyter icon in the upper left).\n",
    "\n",
    "> **Tip**: Alternatively, you can download this report as .html via the **File** > **Download as** submenu, and then manually upload it into the workspace directory by clicking on the orange Jupyter icon in the upper left, then using the Upload button.\n",
    "\n",
    "> **Tip**: Once you've done this, you can submit your project by clicking on the \"Submit Project\" button in the lower right here. This will create and submit a zip file with this .ipynb doc and the .html or .pdf version you created. Congratulations!"
   ]
  },
  {
   "cell_type": "code",
   "execution_count": 28,
   "metadata": {
    "tags": []
   },
   "outputs": [
    {
     "name": "stderr",
     "output_type": "stream",
     "text": [
      "[NbConvertApp] Converting notebook Investigate_a_Dataset-TMDB_movies.ipynb to html\n",
      "[NbConvertApp] WARNING | Alternative text is missing on 2 image(s).\n",
      "[NbConvertApp] Writing 400727 bytes to Investigate_a_Dataset-TMDB_movies.html\n"
     ]
    }
   ],
   "source": [
    "# Running this cell will execute a bash command to convert this notebook to an .html file\n",
    "!python -m nbconvert --to html Investigate_a_Dataset-TMDB_movies.ipynb"
   ]
  }
 ],
 "metadata": {
  "kernelspec": {
   "display_name": "Python 3",
   "language": "python",
   "name": "python3"
  },
  "language_info": {
   "codemirror_mode": {
    "name": "ipython",
    "version": 3
   },
   "file_extension": ".py",
   "mimetype": "text/x-python",
   "name": "python",
   "nbconvert_exporter": "python",
   "pygments_lexer": "ipython3",
   "version": "3.13.5"
  }
 },
 "nbformat": 4,
 "nbformat_minor": 4
}
